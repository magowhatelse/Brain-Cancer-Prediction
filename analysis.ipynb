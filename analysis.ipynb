{
 "cells": [
  {
   "cell_type": "code",
   "execution_count": 10,
   "metadata": {},
   "outputs": [],
   "source": [
    "import pandas as pd"
   ]
  },
  {
   "cell_type": "code",
   "execution_count": 12,
   "metadata": {},
   "outputs": [],
   "source": [
    "data = pd.read_csv(r\"C:\\Brain Cancer Prediction\\data\\CSV\\train_data.csv\")\t"
   ]
  },
  {
   "cell_type": "code",
   "execution_count": null,
   "metadata": {},
   "outputs": [],
   "source": [
    "if data.duplicated(subset=[\"Path\"]).any():\n",
    "    print(\"Warning: Duplicate image paths detected!\")\n"
   ]
  },
  {
   "cell_type": "code",
   "execution_count": 14,
   "metadata": {},
   "outputs": [
    {
     "name": "stdout",
     "output_type": "stream",
     "text": [
      "Fold 0 - Train fold: 3875, Validation fold: 969\n",
      "Fold 0 - Number of overlapping samples: 0\n",
      "Fold 1 - Train fold: 3875, Validation fold: 969\n",
      "Fold 1 - Number of overlapping samples: 0\n",
      "Fold 2 - Train fold: 3875, Validation fold: 969\n",
      "Fold 2 - Number of overlapping samples: 0\n",
      "Fold 3 - Train fold: 3875, Validation fold: 969\n",
      "Fold 3 - Number of overlapping samples: 0\n",
      "Fold 4 - Train fold: 3876, Validation fold: 968\n",
      "Fold 4 - Number of overlapping samples: 0\n"
     ]
    }
   ],
   "source": [
    "for i in range(5):\n",
    "    # Read train and validation folds\n",
    "    train_fold = pd.read_csv(rf\"C:\\Brain Cancer Prediction\\data\\CSV\\fold_{i}_train.csv\")\n",
    "    val_fold = pd.read_csv(rf\"C:\\Brain Cancer Prediction\\data\\CSV\\fold_{i}_val.csv\")\n",
    "\n",
    "    print(f\"Fold {i} - Train fold: {len(train_fold)}, Validation fold: {len(val_fold)}\")\n",
    "\n",
    "    # Compare actual rows (not column names)\n",
    "    train_set_folds = set([tuple(row) for row in train_fold.to_numpy()])\n",
    "    val_set_folds = set([tuple(row) for row in val_fold.to_numpy()])\n",
    "    overlap_folds = train_set_folds.intersection(val_set_folds)\n",
    "\n",
    "    print(f\"Fold {i} - Number of overlapping samples: {len(overlap_folds)}\")\n"
   ]
  }
 ],
 "metadata": {
  "kernelspec": {
   "display_name": "torch",
   "language": "python",
   "name": "python3"
  },
  "language_info": {
   "codemirror_mode": {
    "name": "ipython",
    "version": 3
   },
   "file_extension": ".py",
   "mimetype": "text/x-python",
   "name": "python",
   "nbconvert_exporter": "python",
   "pygments_lexer": "ipython3",
   "version": "3.9.20"
  }
 },
 "nbformat": 4,
 "nbformat_minor": 2
}
